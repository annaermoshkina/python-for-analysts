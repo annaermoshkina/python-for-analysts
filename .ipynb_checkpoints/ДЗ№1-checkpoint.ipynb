{
 "cells": [
  {
   "cell_type": "markdown",
   "id": "8084aebd",
   "metadata": {},
   "source": [
    "## Условие 1:\n",
    "Оформляйте ноутбук, используя эти советы:\n",
    "+ Номер задачи - заголовок 2\n",
    "+ Номер подзадачи - заголовок 3\n",
    "+ Предоставленные наборы данных оформляйте, как код."
   ]
  },
  {
   "cell_type": "markdown",
   "id": "2a76f7a6",
   "metadata": {},
   "source": [
    "## Условие 2:\n",
    "На складе лежат разные фрукты в разном количестве.Нужно написать функцию, которая на вход принимает любое количество названий фруктов и их количество, а возвращает общее количество фруктов на складе"
   ]
  },
  {
   "cell_type": "code",
   "execution_count": 10,
   "id": "ab27c6ca",
   "metadata": {},
   "outputs": [
    {
     "name": "stdout",
     "output_type": "stream",
     "text": [
      "Бананы - 5\n",
      "Яблоки - 9\n",
      "Апельсины - 7\n",
      "Киви - 6\n",
      "Гранат - 8\n"
     ]
    },
    {
     "data": {
      "text/plain": [
       "'Сумма всех фруктов = 35'"
      ]
     },
     "execution_count": 10,
     "metadata": {},
     "output_type": "execute_result"
    }
   ],
   "source": [
    "def count_fruits(**kwargs):\n",
    "    result = 0\n",
    "    for fruit_name, fruit_count in kwargs.items():\n",
    "        print(f'{fruit_name} - {fruit_count}')\n",
    "        result += fruit_count\n",
    "    return f'Сумма всех фруктов = {result}'\n",
    "count_fruits(Бананы = 5, Яблоки = 9, Апельсины = 7, Киви = 6, Гранат = 8)"
   ]
  },
  {
   "cell_type": "markdown",
   "id": "92cb29ee",
   "metadata": {},
   "source": [
    "## Условие 3:\n",
    "Дан список с затратами на рекламу. Но в данных есть ошибки, некоторые затраты имеют отрицательную величину. Удалите такие значения из списка и посчитайте суммарные затраты. <br>[100, 125, -90, 345, 655, -1, 0, 200] <br> Используйте list comprehensions"
   ]
  },
  {
   "cell_type": "code",
   "execution_count": 11,
   "id": "27eed998",
   "metadata": {},
   "outputs": [
    {
     "name": "stdout",
     "output_type": "stream",
     "text": [
      "суммарные затраты: 1425\n"
     ]
    }
   ],
   "source": [
    "a = [100, 125, -90, 345, 655, -1, 0, 200]\n",
    "b = [i for i in a if i > 0]\n",
    "print(\"суммарные затраты:\",sum(b))\n"
   ]
  },
  {
   "cell_type": "markdown",
   "id": "72223ab5",
   "metadata": {},
   "source": [
    "## Условие 4:\n",
    "Даны два списка.<br>Дата покупки<br><br>['2021-09-14', '2021-12-15', '2021-09-08', '2021-12-05', '2021-10-09', '2021-09-30', '2021-12-22', '2021-11-29', '2021-12-24', '2021-11-26', '2021-10-27', '2021-12-18', '2021-11-09', '2021-11-23', '2021-09-27', '2021-10-02', '2021-12-27', '2021-09-20', '2021-12-13', '2021-11-01', '2021-11-09', '2021-12-06', '2021-12-08', '2021-10-09', '2021-10-31', '2021-09-30', '2021-11-09', '2021-12-13', '2021-10-26', '2021-12-09']<br><br>Суммы покупок по датам<br><br>[1270, 8413, 9028, 3703, 5739, 4095, 295, 4944, 5723, 3701, 4471, 651, 7037, 4274, 6275, 4988, 6930, 2971, 6592, 2004, 2822, 519, 3406, 2732, 5015, 2008, 316, 6333, 5700, 2887]"
   ]
  },
  {
   "cell_type": "code",
   "execution_count": 3,
   "id": "c797ca42",
   "metadata": {},
   "outputs": [],
   "source": [
    "from datetime import datetime\n",
    "data = ['2021-09-14', '2021-12-15', '2021-09-08', '2021-12-05', '2021-10-09', '2021-09-30', '2021-12-22', '2021-11-29', '2021-12-24', '2021-11-26', '2021-10-27', '2021-12-18', '2021-11-09', '2021-11-23', '2021-09-27', '2021-10-02', '2021-12-27', '2021-09-20', '2021-12-13', '2021-11-01', '2021-11-09', '2021-12-06', '2021-12-08', '2021-10-09', '2021-10-31', '2021-09-30', '2021-11-09', '2021-12-13', '2021-10-26', '2021-12-09']\n",
    "total = [1270, 8413, 9028, 3703, 5739, 4095, 295, 4944, 5723, 3701, 4471, 651, 7037, 4274, 6275, 4988, 6930, 2971, 6592, 2004, 2822, 519, 3406, 2732, 5015, 2008, 316, 6333, 5700, 2887]"
   ]
  },
  {
   "cell_type": "markdown",
   "id": "8e1959b4",
   "metadata": {},
   "source": [
    "### 4.1 Найдите, какая выручка у компании в ноябре\n",
    "Используйте list comprehensions"
   ]
  },
  {
   "cell_type": "code",
   "execution_count": 4,
   "id": "f36e9e9c",
   "metadata": {},
   "outputs": [
    {
     "name": "stdout",
     "output_type": "stream",
     "text": [
      "Выручка компании в ноябре: 25098\n"
     ]
    }
   ],
   "source": [
    "result = sum([total[i] for i in range(len(data)) if datetime.strptime(data[i], '%Y-%m-%d').month == 11])\n",
    "print('Выручка компании в ноябре:', result)"
   ]
  },
  {
   "cell_type": "markdown",
   "id": "58801310",
   "metadata": {},
   "source": [
    "### 4.2 Найдите выручку компании в зависимости от месяца\n",
    "Для этого напишите функцию, которая на вход принимает список с датами и список с выручкой, а на выходе словарь, где ключи - это месяцы, а значения - это выручка.<br>Используйте аннотирование типов."
   ]
  },
  {
   "cell_type": "code",
   "execution_count": 5,
   "id": "f50f32de",
   "metadata": {},
   "outputs": [
    {
     "data": {
      "text/plain": [
       "{9: 25647, 12: 45452, 10: 28645, 11: 25098}"
      ]
     },
     "execution_count": 5,
     "metadata": {},
     "output_type": "execute_result"
    }
   ],
   "source": [
    "def get_revenue_by_month(data_time: list, data_val: list) -> dict:\n",
    "    result = {}\n",
    "    for i in range(len(data)):\n",
    "        month = datetime.strptime(data_time[i], '%Y-%m-%d').month\n",
    "        count = data_val[i]\n",
    "        if result.get(month):\n",
    "            count += result[month]\n",
    "        result.update({month: count})\n",
    "    return result  \n",
    "get_revenue_by_month(data, total)"
   ]
  },
  {
   "cell_type": "markdown",
   "id": "fe3662e5",
   "metadata": {},
   "source": [
    "### 5.1 Найдите картинку в интернете и прикрепите её в ячейку с текстом"
   ]
  },
  {
   "cell_type": "markdown",
   "id": "039ee4f3",
   "metadata": {},
   "source": [
    "<img src=https://media.proglib.io/wp-uploads/2017/12/470x0_31108f110998f2eeb97ab51236d4b854___jpg____4_4dedbd34-300x214.jpg>"
   ]
  },
  {
   "cell_type": "markdown",
   "id": "f817cf4b",
   "metadata": {},
   "source": [
    "### 5.2 Создайте следующую таблицу в ячейке с текстом (см. презентацию)"
   ]
  },
  {
   "cell_type": "markdown",
   "id": "59cd861d",
   "metadata": {},
   "source": [
    "<table>    \n",
    "    <tr>        \n",
    "        <th></th>\n",
    "        <th>До события</th>\n",
    "        <th>Время события</th>\n",
    "    </tr>\n",
    "    <tr>\n",
    "        <td><b>1 контрольная точка</b></td><td>250</td><td>500</td>\n",
    "    </tr>\n",
    "    <tr>\n",
    "        <td><b>2 контрольная точка</b></td><td>350</td><td>700</td>\n",
    "    </tr>\n",
    "    <tr>\n",
    "        <td><b>3 контрольная точка</b></td><td>400</td><td>800</td>\n",
    "    </tr>\n",
    "    <tr>\n",
    "        <td></td><td></td><td></td>\n",
    "    </tr>\n",
    "    <tr>\n",
    "        <td><b>Итого за победу</b></td><td>1000</td><td>2000</td>\n",
    "    </tr>    \n",
    "</table>"
   ]
  }
 ],
 "metadata": {
  "kernelspec": {
   "display_name": "Python 3 (ipykernel)",
   "language": "python",
   "name": "python3"
  },
  "language_info": {
   "codemirror_mode": {
    "name": "ipython",
    "version": 3
   },
   "file_extension": ".py",
   "mimetype": "text/x-python",
   "name": "python",
   "nbconvert_exporter": "python",
   "pygments_lexer": "ipython3",
   "version": "3.9.13"
  }
 },
 "nbformat": 4,
 "nbformat_minor": 5
}
